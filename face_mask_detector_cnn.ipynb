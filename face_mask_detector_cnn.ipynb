{
  "nbformat": 4,
  "nbformat_minor": 0,
  "metadata": {
    "accelerator": "TPU",
    "colab": {
      "name": "face_mask_detector_cnn.ipynb",
      "provenance": [],
      "collapsed_sections": []
    },
    "kernelspec": {
      "display_name": "Python 3",
      "name": "python3"
    }
  },
  "cells": [
    {
      "cell_type": "markdown",
      "metadata": {
        "id": "GadljuU7-oVV"
      },
      "source": [
        "# Google drive setup\n",
        "* Uses your google account's google drive to store dataset\n",
        "* Make sure to create a folder \"COMP-6721\" in the root of your google drive before running this cell."
      ]
    },
    {
      "cell_type": "code",
      "metadata": {
        "id": "KMJUTDPsshHz",
        "colab": {
          "base_uri": "https://localhost:8080/"
        },
        "outputId": "8bb7bbb4-8fb5-4d88-b7d6-a18d0a3f640e"
      },
      "source": [
        "from google.colab import drive\n",
        "import os\n",
        "\n",
        "drive.mount('/content/drive', force_remount=True)\n",
        "os.chdir(\"drive/My Drive/COMP-6721\")"
      ],
      "execution_count": null,
      "outputs": [
        {
          "output_type": "stream",
          "text": [
            "Mounted at /content/drive\n"
          ],
          "name": "stdout"
        }
      ]
    },
    {
      "cell_type": "markdown",
      "metadata": {
        "id": "f6Xwq10x_B7d"
      },
      "source": [
        "# Loading the dataset\n",
        "* Downloads the face mask dataset to your drive and unzips it\n",
        "* Loads the images and its labels to a pandas dataframe\n",
        "* Save the dataframe as a  pickle file, so we don't need to run this cell again"
      ]
    },
    {
      "cell_type": "code",
      "metadata": {
        "id": "wLq9jaWwm7fU",
        "colab": {
          "base_uri": "https://localhost:8080/"
        },
        "outputId": "bcbdd7b0-3ee0-43f1-da9e-0bdd78844245"
      },
      "source": [
        "\"\"\"\n",
        "Preparing the pickle\n",
        "\"\"\"\n",
        "from pathlib import Path\n",
        "\n",
        "import pandas as pd\n",
        "from google_drive_downloader import GoogleDriveDownloader as gdd\n",
        "from google.colab import drive\n",
        "from tqdm import tqdm\n",
        "from pathlib import Path\n",
        "import shutil\n",
        "\n",
        "\n",
        "dirpath = Path('data/dataset')\n",
        "if dirpath.exists() and dirpath.is_dir():\n",
        "    shutil.rmtree(dirpath)\n",
        "os.makedirs('data/dataset')\n",
        "datasetPath = Path('data/dataset/dataset.zip')\n",
        "gdd.download_file_from_google_drive(file_id='1tu9PmDx5mPCw1O-RTHLAzd25BGknsADQ',\n",
        "                                    dest_path=str(datasetPath),\n",
        "                                    unzip=True)\n",
        "# delete zip file\n",
        "datasetPath.unlink()\n",
        "\n",
        "datasetPath = Path('data/dataset')\n",
        "maskPath = datasetPath/'with_mask'\n",
        "nonMaskPath = datasetPath/'without_mask'\n",
        "randomPath = datasetPath/'random'\n",
        "maskDF = pd.DataFrame()\n",
        "\n",
        "for imgPath in tqdm(list(maskPath.iterdir()), desc='with_mask'):\n",
        "    maskDF = maskDF.append({\n",
        "        'image': str(imgPath),\n",
        "        'mask': 1\n",
        "    }, ignore_index=True)\n",
        "\n",
        "for imgPath in tqdm(list(nonMaskPath.iterdir()), desc='without_mask'):\n",
        "    maskDF = maskDF.append({\n",
        "        'image': str(imgPath),\n",
        "        'mask': 0\n",
        "    }, ignore_index=True)\n",
        "\n",
        "for imgPath in tqdm(list(randomPath.iterdir()), desc='random_images'):\n",
        "    maskDF = maskDF.append({\n",
        "        'image': str(imgPath),\n",
        "        'mask': 2\n",
        "    }, ignore_index=True)\n",
        "\n",
        "dfName = 'data/dataset/dataset.pickle'\n",
        "print(f'Saving Dataframe to: {dfName}')\n",
        "maskDF.to_pickle(dfName)"
      ],
      "execution_count": null,
      "outputs": [
        {
          "output_type": "stream",
          "text": [
            "Downloading 1tu9PmDx5mPCw1O-RTHLAzd25BGknsADQ into data/dataset/dataset.zip... Done.\n",
            "Unzipping..."
          ],
          "name": "stdout"
        },
        {
          "output_type": "stream",
          "text": [
            "with_mask:   1%|          | 32/3725 [00:00<00:11, 317.38it/s]"
          ],
          "name": "stderr"
        },
        {
          "output_type": "stream",
          "text": [
            "Done.\n"
          ],
          "name": "stdout"
        },
        {
          "output_type": "stream",
          "text": [
            "with_mask: 100%|██████████| 3725/3725 [00:13<00:00, 267.13it/s]\n",
            "without_mask: 100%|██████████| 3828/3828 [00:13<00:00, 273.76it/s]\n",
            "random_images: 100%|██████████| 3710/3710 [00:13<00:00, 282.92it/s]\n"
          ],
          "name": "stderr"
        },
        {
          "output_type": "stream",
          "text": [
            "Saving Dataframe to: data/dataset/dataset.pickle\n"
          ],
          "name": "stdout"
        }
      ]
    },
    {
      "cell_type": "markdown",
      "metadata": {
        "id": "jzN0YEDDAE40"
      },
      "source": [
        "# Custom dataset class\n",
        "* Loads the dataset as PIL\n",
        "* Resizes images to 32x32\n",
        "* Convert image to tensor\n",
        "* Normalizes images to have values in the range of 0-1"
      ]
    },
    {
      "cell_type": "code",
      "metadata": {
        "id": "OSkrJ9l4oKNK"
      },
      "source": [
        "\"\"\"\n",
        "The DataSet class\n",
        "\"\"\"\n",
        "from PIL import Image\n",
        "import numpy as np\n",
        "from torch import long, tensor\n",
        "from torch.utils.data.dataset import Dataset\n",
        "from torchvision.transforms import Compose, Resize, ToPILImage, ToTensor, Normalize\n",
        "\n",
        "\n",
        "class MaskDetectionDataset(Dataset):\n",
        "    def __init__(self, dataFrame):\n",
        "        self.dataFrame = dataFrame\n",
        "        \n",
        "        self.transformations = Compose([\n",
        "            Resize((32, 32)),\n",
        "            ToTensor(),\n",
        "            Normalize((0.5667, 0.5198, 0.4955),(0.3082, 0.2988, 0.3053))\n",
        "        ])\n",
        "    \n",
        "    def __getitem__(self, key):\n",
        "        if isinstance(key, slice):\n",
        "            raise NotImplementedError('slicing is not supported')\n",
        "        \n",
        "        row = self.dataFrame.iloc[key]\n",
        "        image = Image.open(row['image']).convert('RGB')\n",
        "        return {\n",
        "          'image': self.transformations(image),\n",
        "          'mask': tensor([row['mask']], dtype=long),\n",
        "          'path': row['image']\n",
        "        }\n",
        "    \n",
        "    def __len__(self):\n",
        "        return len(self.dataFrame.index)"
      ],
      "execution_count": null,
      "outputs": []
    },
    {
      "cell_type": "markdown",
      "metadata": {
        "id": "iYbnhPp5AolL"
      },
      "source": [
        "# CNN model for face mask detection\n",
        "* The model takes 3 channels(R,G,B) as input\n",
        "* The model gives an output of one of 3 classes \n",
        "* 0 -> without_mask, 1 -> with_mask,2 -> not_a_person"
      ]
    },
    {
      "cell_type": "code",
      "metadata": {
        "id": "qx-LOLixogJb"
      },
      "source": [
        "\"\"\"\n",
        "The CNN model\n",
        "\"\"\"\n",
        "import torch\n",
        "import torch.nn.init as init\n",
        "import torch.nn as nn\n",
        "from torch import Tensor\n",
        "from torch.nn import (Conv2d, CrossEntropyLoss, Linear, MaxPool2d, ReLU,\n",
        "                      Sequential, functional)\n",
        "\n",
        "class FaceMaskDetectorCNN(nn.Module):\n",
        "    def __init__(self):\n",
        "        super(FaceMaskDetectorCNN, self).__init__()\n",
        "\n",
        "        self.conv1 = nn.Conv2d(3, 16, kernel_size=3, padding=1)\n",
        "        self.conv2 = nn.Conv2d(16, 8, kernel_size=3, padding=1)\n",
        "        self.fc1 = nn.Linear(8 * 8 * 8, 32)\n",
        "        self.fc2 = nn.Linear(32, 3)\n",
        "    \n",
        "    def forward(self, x: Tensor):\n",
        "        \"\"\" forward pass\n",
        "        \"\"\"\n",
        "        out = functional.max_pool2d(torch.tanh(self.conv1(x)), 2)\n",
        "        out = functional.max_pool2d(torch.tanh(self.conv2(out)), 2)\n",
        "        out = out.view(-1, 8 * 8 * 8)\n",
        "        out = torch.tanh(self.fc1(out))\n",
        "        out = self.fc2(out)\n",
        "        return out\n",
        "\n",
        "face_mask_detector_cnn = FaceMaskDetectorCNN()"
      ],
      "execution_count": null,
      "outputs": []
    },
    {
      "cell_type": "markdown",
      "metadata": {
        "id": "0CD-NueFBWfd"
      },
      "source": [
        "# Layers in the model"
      ]
    },
    {
      "cell_type": "code",
      "metadata": {
        "id": "M3p52rN2Rend",
        "colab": {
          "base_uri": "https://localhost:8080/"
        },
        "outputId": "a9b40950-9040-4762-cdcf-3f8d7ea0803a"
      },
      "source": [
        "\"\"\"\n",
        "Print model summary\n",
        "\"\"\"\n",
        "\n",
        "from torchsummary import summary\n",
        "print(summary(face_mask_detector_cnn,input_size=(3,32,32)))"
      ],
      "execution_count": null,
      "outputs": [
        {
          "output_type": "stream",
          "text": [
            "----------------------------------------------------------------\n",
            "        Layer (type)               Output Shape         Param #\n",
            "================================================================\n",
            "            Conv2d-1           [-1, 16, 32, 32]             448\n",
            "            Conv2d-2            [-1, 8, 16, 16]           1,160\n",
            "            Linear-3                   [-1, 32]          16,416\n",
            "            Linear-4                    [-1, 3]              99\n",
            "================================================================\n",
            "Total params: 18,123\n",
            "Trainable params: 18,123\n",
            "Non-trainable params: 0\n",
            "----------------------------------------------------------------\n",
            "Input size (MB): 0.01\n",
            "Forward/backward pass size (MB): 0.14\n",
            "Params size (MB): 0.07\n",
            "Estimated Total Size (MB): 0.22\n",
            "----------------------------------------------------------------\n",
            "None\n"
          ],
          "name": "stdout"
        }
      ]
    },
    {
      "cell_type": "markdown",
      "metadata": {
        "id": "kt0uRpO-Bn8r"
      },
      "source": [
        "# Split test, validation data\n",
        "* Loads the pickle file that was saved previously\n",
        "* Splits dataset into 70/30 split for test,validate\n",
        "* Create a DataLoader helper function for automatic batching"
      ]
    },
    {
      "cell_type": "code",
      "metadata": {
        "id": "8T_M5_PkokZd",
        "colab": {
          "base_uri": "https://localhost:8080/"
        },
        "outputId": "a026242f-f305-4196-ed1c-f9b3b9a6582b"
      },
      "source": [
        "\"\"\"\n",
        "Some utilities\n",
        "\"\"\"\n",
        "from pathlib import Path\n",
        "from typing import Dict, List, Union\n",
        "\n",
        "import pandas as pd\n",
        "import torch\n",
        "import torch.nn.init as init\n",
        "from sklearn.metrics import accuracy_score\n",
        "from sklearn.model_selection import train_test_split\n",
        "from torch import Tensor\n",
        "from torch.nn import (Conv2d, CrossEntropyLoss, Linear, MaxPool2d, ReLU,\n",
        "                      Sequential)\n",
        "from torch.optim import Adam\n",
        "from torch.optim.optimizer import Optimizer\n",
        "from torch.utils.data import DataLoader\n",
        "\n",
        "def prepare_data(mask_df_path) -> None:\n",
        "        mask_df = pd.read_pickle(mask_df_path)\n",
        "        # print the distribution\n",
        "        print(mask_df['mask'].value_counts())\n",
        "        train, validate = train_test_split(mask_df, test_size=0.3, random_state=0,\n",
        "                                           stratify=mask_df['mask'])\n",
        "        return [\n",
        "            MaskDetectionDataset(train),\n",
        "            MaskDetectionDataset(validate),\n",
        "            CrossEntropyLoss()\n",
        "            ]\n",
        "\n",
        "def train_dataloader(train_df) -> DataLoader:\n",
        "    return DataLoader(train_df, batch_size=32, shuffle=True, num_workers=4)\n",
        "\n",
        "def val_dataloader(validate_df) -> DataLoader:\n",
        "    return DataLoader(validate_df, batch_size=32, num_workers=4)   \n",
        "\n",
        "train_df, validate_df, cross_entropy_loss = prepare_data(\"data/dataset/dataset.pickle\")"
      ],
      "execution_count": null,
      "outputs": [
        {
          "output_type": "stream",
          "text": [
            "0.0    3828\n",
            "1.0    3725\n",
            "2.0    3710\n",
            "Name: mask, dtype: int64\n"
          ],
          "name": "stdout"
        }
      ]
    },
    {
      "cell_type": "markdown",
      "metadata": {
        "id": "xKp59vThCMJX"
      },
      "source": [
        "# Training the model\n",
        "* For each batch get the images and its labels\n",
        "* Pass it to the model to get predictions\n",
        "* compare losses with actual, predicted values"
      ]
    },
    {
      "cell_type": "code",
      "metadata": {
        "id": "3DmCWb2_onzJ",
        "colab": {
          "base_uri": "https://localhost:8080/"
        },
        "outputId": "051849ce-4942-4887-d711-0dd2fe8e9a4f"
      },
      "source": [
        "#@title Hyperparameters\n",
        "epochs = 30 #@param {type:\"slider\", min:10, max:100, step:1}\n",
        "learning_rate = 0.001 #@param {type:\"number\"}\n",
        "retrain = False\n",
        "\"\"\"\n",
        "Training Step\n",
        "\"\"\"\n",
        "import warnings\n",
        "warnings.filterwarnings('ignore')\n",
        "\n",
        "def train_model():\n",
        "    optimizer = Adam(face_mask_detector_cnn.parameters(), lr=learning_rate)\n",
        "    for epoch in range(epochs):\n",
        "        loss_train = 0.0\n",
        "        for i, data in enumerate(train_dataloader(train_df), 0):\n",
        "            inputs, labels = data['image'], data['mask']\n",
        "            labels = labels.flatten()\n",
        "            outputs = face_mask_detector_cnn(inputs)\n",
        "            loss = cross_entropy_loss(outputs, labels)\n",
        "            optimizer.zero_grad() \n",
        "            loss.backward()\n",
        "            optimizer.step()\n",
        "            loss_train += loss\n",
        "        print(\"Training Loss:\", loss_train)\n",
        "\n",
        "train_model()\n",
        "print('Model training has finished')"
      ],
      "execution_count": null,
      "outputs": [
        {
          "output_type": "stream",
          "text": [
            "Training Loss: tensor(152.9218, grad_fn=<AddBackward0>)\n",
            "Training Loss: tensor(109.6861, grad_fn=<AddBackward0>)\n",
            "Training Loss: tensor(92.6697, grad_fn=<AddBackward0>)\n",
            "Training Loss: tensor(81.4858, grad_fn=<AddBackward0>)\n",
            "Training Loss: tensor(73.8918, grad_fn=<AddBackward0>)\n",
            "Training Loss: tensor(68.5356, grad_fn=<AddBackward0>)\n",
            "Training Loss: tensor(60.8804, grad_fn=<AddBackward0>)\n",
            "Training Loss: tensor(55.1276, grad_fn=<AddBackward0>)\n",
            "Training Loss: tensor(50.2824, grad_fn=<AddBackward0>)\n",
            "Training Loss: tensor(45.4863, grad_fn=<AddBackward0>)\n",
            "Training Loss: tensor(40.7065, grad_fn=<AddBackward0>)\n",
            "Training Loss: tensor(36.3088, grad_fn=<AddBackward0>)\n",
            "Training Loss: tensor(31.1779, grad_fn=<AddBackward0>)\n",
            "Training Loss: tensor(27.7230, grad_fn=<AddBackward0>)\n",
            "Training Loss: tensor(24.4418, grad_fn=<AddBackward0>)\n",
            "Training Loss: tensor(23.2069, grad_fn=<AddBackward0>)\n",
            "Training Loss: tensor(19.3152, grad_fn=<AddBackward0>)\n",
            "Training Loss: tensor(17.3041, grad_fn=<AddBackward0>)\n",
            "Training Loss: tensor(13.5048, grad_fn=<AddBackward0>)\n",
            "Training Loss: tensor(11.9769, grad_fn=<AddBackward0>)\n",
            "Training Loss: tensor(10.8938, grad_fn=<AddBackward0>)\n",
            "Training Loss: tensor(10.2949, grad_fn=<AddBackward0>)\n",
            "Training Loss: tensor(7.5219, grad_fn=<AddBackward0>)\n",
            "Training Loss: tensor(7.3169, grad_fn=<AddBackward0>)\n",
            "Training Loss: tensor(6.2118, grad_fn=<AddBackward0>)\n",
            "Training Loss: tensor(4.7369, grad_fn=<AddBackward0>)\n",
            "Training Loss: tensor(3.5440, grad_fn=<AddBackward0>)\n",
            "Training Loss: tensor(3.0538, grad_fn=<AddBackward0>)\n",
            "Training Loss: tensor(2.4450, grad_fn=<AddBackward0>)\n",
            "Training Loss: tensor(2.3373, grad_fn=<AddBackward0>)\n",
            "Model training has finished\n"
          ],
          "name": "stdout"
        }
      ]
    },
    {
      "cell_type": "markdown",
      "metadata": {
        "id": "a0Por18U-bNd"
      },
      "source": [
        "# Evaluate the model \n",
        "* Run the model to evaluate its accuracy on unseen images using validate dataset\n",
        "* print model's accuracy, f1, precision, recall scores"
      ]
    },
    {
      "cell_type": "code",
      "metadata": {
        "id": "oAc11Iu-lZWc",
        "colab": {
          "base_uri": "https://localhost:8080/"
        },
        "outputId": "3c39bd43-0b81-40a6-b50c-1fb05c4d53a5"
      },
      "source": [
        "\"\"\"\n",
        "Evaluate the model\n",
        "\"\"\"\n",
        "\n",
        "from numpy import vstack\n",
        "from sklearn.metrics import accuracy_score, f1_score, precision_score, recall_score, classification_report\n",
        "from sklearn.preprocessing import MultiLabelBinarizer\n",
        "\n",
        "def evaluate_model():\n",
        "    predictions, actuals = torch.tensor([]), torch.tensor([])\n",
        "    for i, data in enumerate(val_dataloader(validate_df)):\n",
        "        inputs, targets = data['image'], data['mask']\n",
        "        targets = targets.flatten()\n",
        "        output = face_mask_detector_cnn(inputs)\n",
        "        output = torch.argmax(output,axis=1)\n",
        "        predictions = torch.cat((predictions, output.flatten()), dim=0)\n",
        "        actuals = torch.cat((actuals, targets), dim=0)\n",
        "\n",
        "    # print metrics\n",
        "    print(classification_report(actuals, predictions))\n",
        "evaluate_model()"
      ],
      "execution_count": null,
      "outputs": [
        {
          "output_type": "stream",
          "text": [
            "              precision    recall  f1-score   support\n",
            "\n",
            "         0.0       0.93      0.90      0.91      1148\n",
            "         1.0       0.88      0.90      0.89      1118\n",
            "         2.0       0.89      0.91      0.90      1113\n",
            "\n",
            "    accuracy                           0.90      3379\n",
            "   macro avg       0.90      0.90      0.90      3379\n",
            "weighted avg       0.90      0.90      0.90      3379\n",
            "\n"
          ],
          "name": "stdout"
        }
      ]
    },
    {
      "cell_type": "markdown",
      "metadata": {
        "id": "yWmuGuSS-LKw"
      },
      "source": [
        "# Predict the category of a random image"
      ]
    },
    {
      "cell_type": "code",
      "metadata": {
        "id": "M5HcysHM4V9x",
        "colab": {
          "base_uri": "https://localhost:8080/",
          "height": 320
        },
        "outputId": "c17bccc7-3441-43ec-83a3-34d04ea5d4cd"
      },
      "source": [
        "\"\"\"\n",
        "Predict\n",
        "\"\"\"\n",
        "\n",
        "import matplotlib.pyplot as plt\n",
        "import random\n",
        "\n",
        "class_mapping = {\n",
        "    0: \"without_mask\",\n",
        "    1: \"with_mask\",\n",
        "    2: \"not_a_person\"\n",
        "}\n",
        "\n",
        "def predict():\n",
        "  rand_sampler = torch.utils.data.RandomSampler(validate_df, num_samples=32, replacement=True)\n",
        "  data = iter(DataLoader(validate_df, batch_size=32, num_workers=1, sampler=rand_sampler)).next()\n",
        "  inputs,targets = data['image'], data['mask']\n",
        "  output = face_mask_detector_cnn(inputs)\n",
        "  output = torch.argmax(output,axis=1)\n",
        "  rand_ind = random.choice(list(range(0,32)))\n",
        "  print(data['path'][rand_ind])\n",
        "  img = Image.open(data['path'][rand_ind])\n",
        "  plt.imshow(np.asarray(img))\n",
        "  print(\"Actual:\", class_mapping[targets[rand_ind].tolist()[0]])\n",
        "  print(\"Predicted:\",class_mapping[output[rand_ind].tolist()])\n",
        "\n",
        "predict()"
      ],
      "execution_count": null,
      "outputs": [
        {
          "output_type": "stream",
          "text": [
            "data/dataset/without_mask/without_mask_3545.jpg\n",
            "Actual: without_mask\n",
            "Predicted: without_mask\n"
          ],
          "name": "stdout"
        },
        {
          "output_type": "display_data",
          "data": {
            "image/png": "[encoded data removed]",
            "text/plain": [
              "<Figure size 432x288 with 1 Axes>"
            ]
          },
          "metadata": {
            "tags": [],
            "needs_background": "light"
          }
        }
      ]
    }
  ]
}