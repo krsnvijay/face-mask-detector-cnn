{
  "nbformat": 4,
  "nbformat_minor": 0,
  "metadata": {
    "accelerator": "TPU",
    "colab": {
      "name": "face_mask_detector_cnn.ipynb",
      "provenance": [],
      "collapsed_sections": []
    },
    "kernelspec": {
      "display_name": "Python 3",
      "name": "python3"
    }
  },
  "cells": [
    {
      "cell_type": "markdown",
      "metadata": {
        "id": "GadljuU7-oVV"
      },
      "source": [
        "# Google drive setup\n",
        "* Uses your google account's google drive to store dataset\n",
        "* Make sure to create a folder \"COMP-6721\" in the root of your google drive before running this cell."
      ]
    },
    {
      "cell_type": "code",
      "metadata": {
        "id": "KMJUTDPsshHz",
        "colab": {
          "base_uri": "https://localhost:8080/"
        },
        "outputId": "6b25a1cd-7eb4-4345-9022-c0ed34225ac5"
      },
      "source": [
        "from google.colab import drive\n",
        "import os\n",
        "\n",
        "drive.mount('/content/drive', force_remount=True)\n",
        "os.chdir(\"drive/My Drive/COMP-6721\")"
      ],
      "execution_count": 1,
      "outputs": [
        {
          "output_type": "stream",
          "text": [
            "Mounted at /content/drive\n"
          ],
          "name": "stdout"
        }
      ]
    },
    {
      "cell_type": "markdown",
      "metadata": {
        "id": "f6Xwq10x_B7d"
      },
      "source": [
        "# Loading the dataset\n",
        "* Downloads the face mask dataset to your drive and unzips it\n",
        "* Loads the images and its labels to a pandas dataframe\n",
        "* Save the dataframe as a  pickle file, so we don't need to run this cell again"
      ]
    },
    {
      "cell_type": "code",
      "metadata": {
        "id": "wLq9jaWwm7fU",
        "colab": {
          "base_uri": "https://localhost:8080/"
        },
        "outputId": "d74179eb-1afe-4e56-a36d-cd437d113b9a"
      },
      "source": [
        "\"\"\"\n",
        "Preparing the pickle\n",
        "\"\"\"\n",
        "\n",
        "from pathlib import Path\n",
        "\n",
        "import pandas as pd\n",
        "from google_drive_downloader import GoogleDriveDownloader as gdd\n",
        "from google.colab import drive\n",
        "from tqdm import tqdm\n",
        "from pathlib import Path\n",
        "import shutil\n",
        "\n",
        "\n",
        "dirpath = Path('data/dataset')\n",
        "if dirpath.exists() and dirpath.is_dir():\n",
        "    shutil.rmtree(dirpath)\n",
        "os.makedirs('data/dataset')\n",
        "datasetPath = Path('data/dataset/dataset.zip')\n",
        "gdd.download_file_from_google_drive(file_id='1tu9PmDx5mPCw1O-RTHLAzd25BGknsADQ',\n",
        "                                    dest_path=str(datasetPath),\n",
        "                                    unzip=True)\n",
        "# delete zip file\n",
        "datasetPath.unlink()\n",
        "\n",
        "datasetPath = Path('data/dataset')\n",
        "maskPath = datasetPath/'with_mask'\n",
        "nonMaskPath = datasetPath/'without_mask'\n",
        "randomPath = datasetPath/'random'\n",
        "maskDF = pd.DataFrame()\n",
        "\n",
        "for imgPath in tqdm(list(maskPath.iterdir()), desc='with_mask'):\n",
        "    maskDF = maskDF.append({\n",
        "        'image': str(imgPath),\n",
        "        'mask': 1\n",
        "    }, ignore_index=True)\n",
        "\n",
        "for imgPath in tqdm(list(nonMaskPath.iterdir()), desc='without_mask'):\n",
        "    maskDF = maskDF.append({\n",
        "        'image': str(imgPath),\n",
        "        'mask': 0\n",
        "    }, ignore_index=True)\n",
        "\n",
        "for imgPath in tqdm(list(randomPath.iterdir()), desc='random_images'):\n",
        "    maskDF = maskDF.append({\n",
        "        'image': str(imgPath),\n",
        "        'mask': 2\n",
        "    }, ignore_index=True)\n",
        "\n",
        "dfName = 'data/dataset/dataset.pickle'\n",
        "print(f'Saving Dataframe to: {dfName}')\n",
        "maskDF.to_pickle(dfName)"
      ],
      "execution_count": 3,
      "outputs": [
        {
          "output_type": "stream",
          "text": [
            "Downloading 1tu9PmDx5mPCw1O-RTHLAzd25BGknsADQ into data/dataset/dataset.zip... Done.\n",
            "Unzipping..."
          ],
          "name": "stdout"
        },
        {
          "output_type": "stream",
          "text": [
            "with_mask:   1%|          | 31/3725 [00:00<00:12, 301.97it/s]"
          ],
          "name": "stderr"
        },
        {
          "output_type": "stream",
          "text": [
            "Done.\n"
          ],
          "name": "stdout"
        },
        {
          "output_type": "stream",
          "text": [
            "with_mask: 100%|██████████| 3725/3725 [00:13<00:00, 274.55it/s]\n",
            "without_mask: 100%|██████████| 3828/3828 [00:14<00:00, 262.70it/s]\n",
            "random_images: 100%|██████████| 3710/3710 [00:13<00:00, 278.04it/s]"
          ],
          "name": "stderr"
        },
        {
          "output_type": "stream",
          "text": [
            "Saving Dataframe to: data/dataset/dataset.pickle\n"
          ],
          "name": "stdout"
        },
        {
          "output_type": "stream",
          "text": [
            "\n"
          ],
          "name": "stderr"
        }
      ]
    },
    {
      "cell_type": "markdown",
      "metadata": {
        "id": "jzN0YEDDAE40"
      },
      "source": [
        "# Custom dataset class\n",
        "* Loads the dataset as PIL\n",
        "* Resizes images to 32x32\n",
        "* Convert image to tensor\n",
        "* Normalizes images to have values in the range of 0-1"
      ]
    },
    {
      "cell_type": "code",
      "metadata": {
        "id": "OSkrJ9l4oKNK"
      },
      "source": [
        "\"\"\"\n",
        "The DataSet class\n",
        "\"\"\"\n",
        "\n",
        "from PIL import Image\n",
        "import numpy as np\n",
        "from torch import long, tensor\n",
        "from torch.utils.data.dataset import Dataset\n",
        "from torchvision.transforms import Compose, Resize, ToTensor, Normalize\n",
        "\n",
        "\n",
        "class MaskDetectionDataset(Dataset):\n",
        "    def __init__(self, dataFrame):\n",
        "        self.dataFrame = dataFrame\n",
        "        \n",
        "        self.transformations = Compose([\n",
        "            Resize((32, 32)),\n",
        "            ToTensor(),\n",
        "            Normalize((0.5667, 0.5198, 0.4955),(0.3082, 0.2988, 0.3053))\n",
        "        ])\n",
        "    \n",
        "    def __getitem__(self, key):\n",
        "        if isinstance(key, slice):\n",
        "            raise NotImplementedError('slicing is not supported')\n",
        "        \n",
        "        row = self.dataFrame.iloc[key]\n",
        "        image = Image.open(row['image']).convert('RGB')\n",
        "        return {\n",
        "          'image': self.transformations(image),\n",
        "          'mask': tensor([row['mask']], dtype=long),\n",
        "          'path': row['image']\n",
        "        }\n",
        "    \n",
        "    def __len__(self):\n",
        "        return len(self.dataFrame.index)"
      ],
      "execution_count": 4,
      "outputs": []
    },
    {
      "cell_type": "markdown",
      "metadata": {
        "id": "iYbnhPp5AolL"
      },
      "source": [
        "# CNN model for face mask detection\n",
        "* The model takes 3 channels(R,G,B) as input\n",
        "* The model gives an output of one of 3 classes \n",
        "* 0 -> without_mask, 1 -> with_mask,2 -> not_a_person"
      ]
    },
    {
      "cell_type": "code",
      "metadata": {
        "id": "qx-LOLixogJb"
      },
      "source": [
        "\"\"\"\n",
        "The CNN model\n",
        "\"\"\"\n",
        "\n",
        "import torch\n",
        "import torch.nn.init as init\n",
        "import torch.nn as nn\n",
        "from torch import Tensor\n",
        "from torch.nn import (Conv2d, CrossEntropyLoss, Linear, MaxPool2d, ReLU,\n",
        "                      Sequential, functional)\n",
        "\n",
        "class FaceMaskDetectorCNN(nn.Module):\n",
        "    def __init__(self):\n",
        "        super(FaceMaskDetectorCNN, self).__init__()\n",
        "\n",
        "        self.conv1 = nn.Conv2d(3, 16, kernel_size=3, padding=1)\n",
        "        self.conv2 = nn.Conv2d(16, 8, kernel_size=3, padding=1)\n",
        "        self.fc1 = nn.Linear(8 * 8 * 8, 32)\n",
        "        self.fc2 = nn.Linear(32, 3)\n",
        "    \n",
        "    def forward(self, x: Tensor):\n",
        "        \"\"\" forward pass\n",
        "        \"\"\"\n",
        "        out = functional.max_pool2d(torch.tanh(self.conv1(x)), 2)\n",
        "        out = functional.max_pool2d(torch.tanh(self.conv2(out)), 2)\n",
        "        out = out.view(-1, 8 * 8 * 8)\n",
        "        out = torch.tanh(self.fc1(out))\n",
        "        out = self.fc2(out)\n",
        "        return out\n",
        "\n",
        "face_mask_detector_cnn = FaceMaskDetectorCNN()"
      ],
      "execution_count": 5,
      "outputs": []
    },
    {
      "cell_type": "markdown",
      "metadata": {
        "id": "0CD-NueFBWfd"
      },
      "source": [
        "# Layers in the model"
      ]
    },
    {
      "cell_type": "code",
      "metadata": {
        "id": "M3p52rN2Rend",
        "colab": {
          "base_uri": "https://localhost:8080/"
        },
        "outputId": "e5c65d1b-5f83-4845-c779-e7a3d871f4bc"
      },
      "source": [
        "\"\"\"\n",
        "Print model summary\n",
        "\"\"\"\n",
        "\n",
        "from torchsummary import summary\n",
        "print(summary(face_mask_detector_cnn,input_size=(3,32,32)))"
      ],
      "execution_count": 6,
      "outputs": [
        {
          "output_type": "stream",
          "text": [
            "----------------------------------------------------------------\n",
            "        Layer (type)               Output Shape         Param #\n",
            "================================================================\n",
            "            Conv2d-1           [-1, 16, 32, 32]             448\n",
            "            Conv2d-2            [-1, 8, 16, 16]           1,160\n",
            "            Linear-3                   [-1, 32]          16,416\n",
            "            Linear-4                    [-1, 3]              99\n",
            "================================================================\n",
            "Total params: 18,123\n",
            "Trainable params: 18,123\n",
            "Non-trainable params: 0\n",
            "----------------------------------------------------------------\n",
            "Input size (MB): 0.01\n",
            "Forward/backward pass size (MB): 0.14\n",
            "Params size (MB): 0.07\n",
            "Estimated Total Size (MB): 0.22\n",
            "----------------------------------------------------------------\n",
            "None\n"
          ],
          "name": "stdout"
        }
      ]
    },
    {
      "cell_type": "markdown",
      "metadata": {
        "id": "kt0uRpO-Bn8r"
      },
      "source": [
        "# Split test, validation data\n",
        "* Loads the pickle file that was saved previously\n",
        "* Splits dataset into 70/30 split for test,validate\n",
        "* Create a DataLoader helper function for automatic batching"
      ]
    },
    {
      "cell_type": "code",
      "metadata": {
        "id": "8T_M5_PkokZd",
        "colab": {
          "base_uri": "https://localhost:8080/"
        },
        "outputId": "cc84df03-3981-4bec-a6fb-62f316177e39"
      },
      "source": [
        "\"\"\"\n",
        "Some utilities\n",
        "\"\"\"\n",
        "\n",
        "from pathlib import Path\n",
        "from typing import Dict, List, Union\n",
        "\n",
        "import pandas as pd\n",
        "import torch\n",
        "import torch.nn.init as init\n",
        "from sklearn.model_selection import train_test_split\n",
        "from torch import Tensor\n",
        "from torch.nn import (Conv2d, CrossEntropyLoss, Linear, MaxPool2d, ReLU,\n",
        "                      Sequential)\n",
        "from torch.optim import Adam\n",
        "from torch.optim.optimizer import Optimizer\n",
        "from torch.utils.data import DataLoader\n",
        "import itertools\n",
        "import matplotlib.pyplot as plt\n",
        "\n",
        "def plot_cm(cm, classes, normalize=False, title='Visualization of the confusion matrix', cmap=plt.cm.Reds):\n",
        "    plt.imshow(cm, interpolation='nearest', cmap=cmap)\n",
        "    plt.title(title)\n",
        "    plt.colorbar()\n",
        "    tick_marks = np.arange(len(classes))\n",
        "    plt.xticks(tick_marks, classes, rotation=45)\n",
        "    plt.yticks(tick_marks, classes)\n",
        "\n",
        "    if normalize:\n",
        "        cm = cm.astype('float') / cm.sum(axis=1)[:, np.newaxis]\n",
        "        print(\"Normalized confusion matrix\")\n",
        "    else:\n",
        "        print('Confusion matrix, without normalization')\n",
        "\n",
        "    print(cm)\n",
        "\n",
        "    thresh = cm.max() / 2.\n",
        "    for i, j in itertools.product(range(cm.shape[0]), range(cm.shape[1])):\n",
        "        plt.text(j, i, cm[i, j],\n",
        "            horizontalalignment=\"center\",\n",
        "            color=\"white\" if cm[i, j] > thresh else \"black\")\n",
        "\n",
        "    plt.tight_layout()\n",
        "    plt.ylabel('Actual True label')\n",
        "    plt.xlabel('Predicted label')\n",
        "\n",
        "def prepare_data(mask_df_path) -> None:\n",
        "        mask_df = pd.read_pickle(mask_df_path)\n",
        "        # print the distribution\n",
        "        print(mask_df['mask'].value_counts())\n",
        "        train, validate = train_test_split(mask_df, test_size=0.3, random_state=0,\n",
        "                                           stratify=mask_df['mask'])\n",
        "        return [\n",
        "            MaskDetectionDataset(train),\n",
        "            MaskDetectionDataset(validate),\n",
        "            CrossEntropyLoss()\n",
        "            ]\n",
        "\n",
        "def train_dataloader(train_df) -> DataLoader:\n",
        "    return DataLoader(train_df, batch_size=32, shuffle=True, num_workers=4)\n",
        "\n",
        "def val_dataloader(validate_df) -> DataLoader:\n",
        "    return DataLoader(validate_df, batch_size=32, num_workers=4)   \n",
        "\n",
        "train_df, validate_df, cross_entropy_loss = prepare_data(\"data/dataset/dataset.pickle\")"
      ],
      "execution_count": 9,
      "outputs": [
        {
          "output_type": "stream",
          "text": [
            "0.0    3828\n",
            "1.0    3725\n",
            "2.0    3710\n",
            "Name: mask, dtype: int64\n"
          ],
          "name": "stdout"
        }
      ]
    },
    {
      "cell_type": "markdown",
      "metadata": {
        "id": "xKp59vThCMJX"
      },
      "source": [
        "# Training the model\n",
        "* For each batch get the images and its labels\n",
        "* Pass it to the model to get predictions\n",
        "* compare losses with actual, predicted values"
      ]
    },
    {
      "cell_type": "code",
      "metadata": {
        "id": "3DmCWb2_onzJ",
        "colab": {
          "base_uri": "https://localhost:8080/"
        },
        "outputId": "66c4a847-d84c-4c04-90ab-2b5317e35140"
      },
      "source": [
        "#@title Hyperparameters\n",
        "epochs = 30 #@param {type:\"slider\", min:10, max:100, step:1}\n",
        "learning_rate = 0.001 #@param {type:\"number\"}\n",
        "retrain = False\n",
        "\"\"\"\n",
        "Training Step\n",
        "\"\"\"\n",
        "\n",
        "import warnings\n",
        "warnings.filterwarnings('ignore')\n",
        "\n",
        "def train_model():\n",
        "    optimizer = Adam(face_mask_detector_cnn.parameters(), lr=learning_rate)\n",
        "    for epoch in range(epochs):\n",
        "        loss_train = 0.0\n",
        "        for i, data in enumerate(train_dataloader(train_df), 0):\n",
        "            inputs, labels = data['image'], data['mask']\n",
        "            labels = labels.flatten()\n",
        "            outputs = face_mask_detector_cnn(inputs)\n",
        "            loss = cross_entropy_loss(outputs, labels)\n",
        "            optimizer.zero_grad() \n",
        "            loss.backward()\n",
        "            optimizer.step()\n",
        "            loss_train += loss\n",
        "        print(f'Training Loss (after epoch {epoch}):', loss_train)\n",
        "\n",
        "train_model()\n",
        "print('Model training has finished')"
      ],
      "execution_count": 11,
      "outputs": [
        {
          "output_type": "stream",
          "text": [
            "Training Loss (after epoch 0): tensor(102.7297, grad_fn=<AddBackward0>)\n",
            "Training Loss (after epoch 1): tensor(91.0216, grad_fn=<AddBackward0>)\n",
            "Training Loss (after epoch 2): tensor(81.0369, grad_fn=<AddBackward0>)\n",
            "Training Loss (after epoch 3): tensor(71.4643, grad_fn=<AddBackward0>)\n",
            "Training Loss (after epoch 4): tensor(67.1122, grad_fn=<AddBackward0>)\n",
            "Training Loss (after epoch 5): tensor(59.7441, grad_fn=<AddBackward0>)\n",
            "Training Loss (after epoch 6): tensor(54.3439, grad_fn=<AddBackward0>)\n",
            "Training Loss (after epoch 7): tensor(48.5081, grad_fn=<AddBackward0>)\n",
            "Training Loss (after epoch 8): tensor(44.2742, grad_fn=<AddBackward0>)\n",
            "Training Loss (after epoch 9): tensor(40.3139, grad_fn=<AddBackward0>)\n",
            "Training Loss (after epoch 10): tensor(35.5605, grad_fn=<AddBackward0>)\n",
            "Training Loss (after epoch 11): tensor(32.2056, grad_fn=<AddBackward0>)\n",
            "Training Loss (after epoch 12): tensor(27.7169, grad_fn=<AddBackward0>)\n",
            "Training Loss (after epoch 13): tensor(26.3111, grad_fn=<AddBackward0>)\n",
            "Training Loss (after epoch 14): tensor(22.0110, grad_fn=<AddBackward0>)\n",
            "Training Loss (after epoch 15): tensor(20.5769, grad_fn=<AddBackward0>)\n",
            "Training Loss (after epoch 16): tensor(18.5830, grad_fn=<AddBackward0>)\n",
            "Training Loss (after epoch 17): tensor(16.1653, grad_fn=<AddBackward0>)\n",
            "Training Loss (after epoch 18): tensor(12.4656, grad_fn=<AddBackward0>)\n",
            "Training Loss (after epoch 19): tensor(12.5684, grad_fn=<AddBackward0>)\n",
            "Training Loss (after epoch 20): tensor(10.9430, grad_fn=<AddBackward0>)\n",
            "Training Loss (after epoch 21): tensor(8.2788, grad_fn=<AddBackward0>)\n",
            "Training Loss (after epoch 22): tensor(8.7171, grad_fn=<AddBackward0>)\n",
            "Training Loss (after epoch 23): tensor(8.0061, grad_fn=<AddBackward0>)\n",
            "Training Loss (after epoch 24): tensor(5.1235, grad_fn=<AddBackward0>)\n",
            "Training Loss (after epoch 25): tensor(5.1793, grad_fn=<AddBackward0>)\n",
            "Training Loss (after epoch 26): tensor(6.7398, grad_fn=<AddBackward0>)\n",
            "Training Loss (after epoch 27): tensor(6.0222, grad_fn=<AddBackward0>)\n",
            "Training Loss (after epoch 28): tensor(3.8670, grad_fn=<AddBackward0>)\n",
            "Training Loss (after epoch 29): tensor(3.3170, grad_fn=<AddBackward0>)\n",
            "Model training has finished\n"
          ],
          "name": "stdout"
        }
      ]
    },
    {
      "cell_type": "markdown",
      "metadata": {
        "id": "a0Por18U-bNd"
      },
      "source": [
        "# Evaluate the model \n",
        "* Run the model to evaluate its accuracy on unseen images using validate dataset\n",
        "* print model's accuracy, f1, precision, recall scores"
      ]
    },
    {
      "cell_type": "code",
      "metadata": {
        "id": "oAc11Iu-lZWc",
        "colab": {
          "base_uri": "https://localhost:8080/",
          "height": 549
        },
        "outputId": "601f4c2d-57c2-4288-9560-87b4640ae056"
      },
      "source": [
        "\"\"\"\n",
        "Evaluate the model\n",
        "\"\"\"\n",
        "\n",
        "from numpy import vstack\n",
        "from sklearn.metrics import accuracy_score, f1_score, precision_score, recall_score, classification_report, confusion_matrix\n",
        "\n",
        "def evaluate_model():\n",
        "    predictions, actuals = torch.tensor([]), torch.tensor([])\n",
        "    for i, data in enumerate(val_dataloader(validate_df)):\n",
        "        inputs, targets = data['image'], data['mask']\n",
        "        targets = targets.flatten()\n",
        "        output = face_mask_detector_cnn(inputs)\n",
        "        output = torch.argmax(output,axis=1)\n",
        "        predictions = torch.cat((predictions, output.flatten()), dim=0)\n",
        "        actuals = torch.cat((actuals, targets), dim=0)\n",
        "\n",
        "    # print metrics\n",
        "    classes = ['without_mask', 'with_mask', 'not_a_person']\n",
        "    print(classification_report(actuals, predictions, digits = 4, target_names=classes))\n",
        "    confusion_mat = confusion_matrix(actuals.numpy(), predictions.numpy())\n",
        "    plot_cm(confusion_mat, classes)\n",
        "evaluate_model()"
      ],
      "execution_count": 12,
      "outputs": [
        {
          "output_type": "stream",
          "text": [
            "              precision    recall  f1-score   support\n",
            "\n",
            "without_mask     0.9253    0.8850    0.9047      1148\n",
            "   with_mask     0.8772    0.8945    0.8857      1118\n",
            "not_a_person     0.8834    0.9057    0.8944      1113\n",
            "\n",
            "    accuracy                         0.8949      3379\n",
            "   macro avg     0.8953    0.8950    0.8950      3379\n",
            "weighted avg     0.8956    0.8949    0.8950      3379\n",
            "\n",
            "Confusion matrix, without normalization\n",
            "[[1016   75   57]\n",
            " [  42 1000   76]\n",
            " [  40   65 1008]]\n"
          ],
          "name": "stdout"
        },
        {
          "output_type": "display_data",
          "data": {
            "image/png": "[encoded data removed]",
            "text/plain": [
              "<Figure size 432x288 with 2 Axes>"
            ]
          },
          "metadata": {
            "tags": [],
            "needs_background": "light"
          }
        }
      ]
    },
    {
      "cell_type": "markdown",
      "metadata": {
        "id": "yWmuGuSS-LKw"
      },
      "source": [
        "# Predict the category of a random image"
      ]
    },
    {
      "cell_type": "code",
      "metadata": {
        "id": "M5HcysHM4V9x",
        "colab": {
          "base_uri": "https://localhost:8080/",
          "height": 320
        },
        "outputId": "1a57dbde-cc74-47f3-824c-db154440ff51"
      },
      "source": [
        "\"\"\"\n",
        "Predict\n",
        "\"\"\"\n",
        "\n",
        "import matplotlib.pyplot as plt\n",
        "import random\n",
        "\n",
        "class_mapping = {\n",
        "    0: \"without_mask\",\n",
        "    1: \"with_mask\",\n",
        "    2: \"not_a_person\"\n",
        "}\n",
        "\n",
        "def predict():\n",
        "  rand_sampler = torch.utils.data.RandomSampler(validate_df, num_samples=32, replacement=True)\n",
        "  data = iter(DataLoader(validate_df, batch_size=32, num_workers=1, sampler=rand_sampler)).next()\n",
        "  inputs,targets = data['image'], data['mask']\n",
        "  output = face_mask_detector_cnn(inputs)\n",
        "  output = torch.argmax(output,axis=1)\n",
        "  rand_ind = random.choice(list(range(0,32)))\n",
        "  print(data['path'][rand_ind])\n",
        "  img = Image.open(data['path'][rand_ind])\n",
        "  plt.imshow(np.asarray(img))\n",
        "  print(\"Actual:\", class_mapping[targets[rand_ind].tolist()[0]])\n",
        "  print(\"Predicted:\",class_mapping[output[rand_ind].tolist()])\n",
        "\n",
        "predict()"
      ],
      "execution_count": 13,
      "outputs": [
        {
          "output_type": "stream",
          "text": [
            "data/dataset/random/image_2857.jpg\n",
            "Actual: not_a_person\n",
            "Predicted: not_a_person\n"
          ],
          "name": "stdout"
        },
        {
          "output_type": "display_data",
          "data": {
            "image/png": "[encoded data removed]",
            "text/plain": [
              "<Figure size 432x288 with 1 Axes>"
            ]
          },
          "metadata": {
            "tags": [],
            "needs_background": "light"
          }
        }
      ]
    }
  ]
}