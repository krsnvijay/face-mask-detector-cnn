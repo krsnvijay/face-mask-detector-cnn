{
  "nbformat": 4,
  "nbformat_minor": 0,
  "metadata": {
    "accelerator": "TPU",
    "colab": {
      "name": "face_mask_detector_cnn.ipynb",
      "provenance": [],
      "collapsed_sections": []
    },
    "kernelspec": {
      "display_name": "Python 3",
      "name": "python3"
    }
  },
  "cells": [
    {
      "cell_type": "code",
      "metadata": {
        "id": "KMJUTDPsshHz",
        "outputId": "d4328bbe-c2f4-4337-8740-0c073157b14d",
        "colab": {
          "base_uri": "https://localhost:8080/"
        }
      },
      "source": [
        "from google.colab import drive\n",
        "import os\n",
        "\n",
        "drive.mount('/content/drive', force_remount=True)\n",
        "os.chdir(\"drive/My Drive/COMP-6721\")"
      ],
      "execution_count": 1,
      "outputs": [
        {
          "output_type": "stream",
          "text": [
            "Mounted at /content/drive\n"
          ],
          "name": "stdout"
        }
      ]
    },
    {
      "cell_type": "code",
      "metadata": {
        "id": "wLq9jaWwm7fU",
        "outputId": "94ffff15-c6a6-4e11-9aa5-7a62ad530321",
        "colab": {
          "base_uri": "https://localhost:8080/"
        }
      },
      "source": [
        "\"\"\"\n",
        "Preparing the pickle\n",
        "\"\"\"\n",
        "from pathlib import Path\n",
        "\n",
        "import pandas as pd\n",
        "from google_drive_downloader import GoogleDriveDownloader as gdd\n",
        "from google.colab import drive\n",
        "from tqdm import tqdm\n",
        "from pathlib import Path\n",
        "import shutil\n",
        "\n",
        "\n",
        "dirpath = Path('data/dataset')\n",
        "if dirpath.exists() and dirpath.is_dir():\n",
        "    shutil.rmtree(dirpath)\n",
        "os.makedirs('data/dataset')\n",
        "datasetPath = Path('data/dataset/dataset.zip')\n",
        "gdd.download_file_from_google_drive(file_id='15yca0AIhQgY49H0M_V96lgadlG3zIYyA',\n",
        "                                    dest_path=str(datasetPath),\n",
        "                                    unzip=True)\n",
        "# delete zip file\n",
        "datasetPath.unlink()\n",
        "\n",
        "datasetPath = Path('data/dataset')\n",
        "maskPath = datasetPath/'with_mask'\n",
        "nonMaskPath = datasetPath/'without_mask'\n",
        "randomPath = datasetPath/'random'\n",
        "maskDF = pd.DataFrame()\n",
        "\n",
        "for imgPath in tqdm(list(maskPath.iterdir()), desc='with_mask'):\n",
        "    maskDF = maskDF.append({\n",
        "        'image': str(imgPath),\n",
        "        'mask': 1\n",
        "    }, ignore_index=True)\n",
        "\n",
        "for imgPath in tqdm(list(nonMaskPath.iterdir()), desc='without_mask'):\n",
        "    maskDF = maskDF.append({\n",
        "        'image': str(imgPath),\n",
        "        'mask': 0\n",
        "    }, ignore_index=True)\n",
        "\n",
        "for imgPath in tqdm(list(randomPath.iterdir()), desc='random_images'):\n",
        "    maskDF = maskDF.append({\n",
        "        'image': str(imgPath),\n",
        "        'mask': 2\n",
        "    }, ignore_index=True)\n",
        "\n",
        "dfName = 'data/dataset/dataset.pickle'\n",
        "print(f'Saving Dataframe to: {dfName}')\n",
        "maskDF.to_pickle(dfName)"
      ],
      "execution_count": 6,
      "outputs": [
        {
          "output_type": "stream",
          "text": [
            "Downloading 15yca0AIhQgY49H0M_V96lgadlG3zIYyA into data/dataset/dataset.zip... Done.\n",
            "Unzipping..."
          ],
          "name": "stdout"
        },
        {
          "output_type": "stream",
          "text": [
            "with_mask:   1%|          | 35/3725 [00:00<00:10, 341.39it/s]"
          ],
          "name": "stderr"
        },
        {
          "output_type": "stream",
          "text": [
            "Done.\n"
          ],
          "name": "stdout"
        },
        {
          "output_type": "stream",
          "text": [
            "with_mask: 100%|██████████| 3725/3725 [00:10<00:00, 351.47it/s]\n",
            "without_mask: 100%|██████████| 3828/3828 [00:11<00:00, 339.94it/s]\n",
            "random_images: 100%|██████████| 7663/7663 [00:22<00:00, 333.60it/s]"
          ],
          "name": "stderr"
        },
        {
          "output_type": "stream",
          "text": [
            "Saving Dataframe to: data/dataset/dataset.pickle\n"
          ],
          "name": "stdout"
        },
        {
          "output_type": "stream",
          "text": [
            "\n"
          ],
          "name": "stderr"
        }
      ]
    },
    {
      "cell_type": "code",
      "metadata": {
        "id": "OSkrJ9l4oKNK"
      },
      "source": [
        "\"\"\"\n",
        "The DataSet class\n",
        "\"\"\"\n",
        "from PIL import Image\n",
        "import numpy as np\n",
        "from torch import long, tensor\n",
        "from torch.utils.data.dataset import Dataset\n",
        "from torchvision.transforms import Compose, Resize, ToPILImage, ToTensor\n",
        "\n",
        "\n",
        "class MaskDetectionDataset(Dataset):\n",
        "    def __init__(self, dataFrame):\n",
        "        self.dataFrame = dataFrame\n",
        "        \n",
        "        self.transformations = Compose([\n",
        "            Resize((100, 100)),\n",
        "            ToTensor(),\n",
        "        ])\n",
        "    \n",
        "    def __getitem__(self, key):\n",
        "        if isinstance(key, slice):\n",
        "            raise NotImplementedError('slicing is not supported')\n",
        "        \n",
        "        row = self.dataFrame.iloc[key]\n",
        "        image = Image.open(row['image']).convert('RGB')\n",
        "        return {\n",
        "          'image': self.transformations(image),\n",
        "          'mask': tensor([row['mask']], dtype=long),\n",
        "          'path': row['image']\n",
        "        }\n",
        "    \n",
        "    def __len__(self):\n",
        "        return len(self.dataFrame.index)"
      ],
      "execution_count": 47,
      "outputs": []
    },
    {
      "cell_type": "code",
      "metadata": {
        "id": "qx-LOLixogJb"
      },
      "source": [
        "\"\"\"\n",
        "The CNN model\n",
        "\"\"\"\n",
        "import torch\n",
        "import torch.nn.init as init\n",
        "import torch.nn as nn\n",
        "from torch import Tensor\n",
        "from torch.nn import (Conv2d, CrossEntropyLoss, Linear, MaxPool2d, ReLU,\n",
        "                      Sequential)\n",
        "\n",
        "class FaceMaskDetectorCNN(nn.Module):\n",
        "    def __init__(self):\n",
        "        super(FaceMaskDetectorCNN, self).__init__()\n",
        "        \n",
        "        self.convLayer1 = convLayer1 = Sequential(\n",
        "            Conv2d(3, 32, kernel_size=(3, 3), padding=(1, 1)),\n",
        "            ReLU(),\n",
        "            MaxPool2d(kernel_size=(2, 2))\n",
        "        )\n",
        "        \n",
        "        self.convLayer2 = convLayer2 = Sequential(\n",
        "            Conv2d(32, 64, kernel_size=(3, 3), padding=(1, 1)),\n",
        "            ReLU(),\n",
        "            MaxPool2d(kernel_size=(2, 2))\n",
        "        )\n",
        "        \n",
        "        self.convLayer3 = convLayer3 = Sequential(\n",
        "            Conv2d(64, 128, kernel_size=(3, 3), padding=(1, 1), stride=(3,3)),\n",
        "            ReLU(),\n",
        "            MaxPool2d(kernel_size=(2, 2))\n",
        "        )\n",
        "        \n",
        "        self.linearLayers = linearLayers = Sequential(\n",
        "            Linear(in_features=2048, out_features=1024),\n",
        "            ReLU(),\n",
        "            Linear(in_features=1024, out_features=3),\n",
        "        )\n",
        "        \n",
        "        # Initialize layers' weights\n",
        "        for sequential in [convLayer1, convLayer2, convLayer3, linearLayers]:\n",
        "            for layer in sequential.children():\n",
        "                if isinstance(layer, (Linear, Conv2d)):\n",
        "                    init.xavier_uniform_(layer.weight)\n",
        "    \n",
        "    def forward(self, x: Tensor):\n",
        "        \"\"\" forward pass\n",
        "        \"\"\"\n",
        "        out = self.convLayer1(x)\n",
        "        out = self.convLayer2(out)\n",
        "        out = self.convLayer3(out)\n",
        "        out = out.view(-1, 2048)\n",
        "        out = self.linearLayers(out)\n",
        "        return out\n",
        "\n",
        "face_mask_detector_cnn = FaceMaskDetectorCNN()"
      ],
      "execution_count": 48,
      "outputs": []
    },
    {
      "cell_type": "code",
      "metadata": {
        "id": "8T_M5_PkokZd"
      },
      "source": [
        "\"\"\"\n",
        "Some utilities\n",
        "\"\"\"\n",
        "from pathlib import Path\n",
        "from typing import Dict, List, Union\n",
        "\n",
        "import pandas as pd\n",
        "import torch\n",
        "import torch.nn.init as init\n",
        "from sklearn.metrics import accuracy_score\n",
        "from sklearn.model_selection import train_test_split\n",
        "from torch import Tensor\n",
        "from torch.nn import (Conv2d, CrossEntropyLoss, Linear, MaxPool2d, ReLU,\n",
        "                      Sequential)\n",
        "from torch.optim import Adam\n",
        "from torch.optim.optimizer import Optimizer\n",
        "from torch.utils.data import DataLoader\n",
        "\n",
        "def prepare_data(mask_df_path) -> None:\n",
        "        mask_df = pd.read_pickle(mask_df_path)\n",
        "        train, validate = train_test_split(mask_df, test_size=0.3, random_state=0,\n",
        "                                           stratify=mask_df['mask'])\n",
        "        mask_num = mask_df[mask_df['mask']==1].shape[0]\n",
        "        non_mask_num = mask_df[mask_df['mask']==0].shape[0]\n",
        "        not_a_person_num = mask_df[mask_df['mask']==2].shape[0]\n",
        "        n_samples = [non_mask_num, mask_num, not_a_person_num]\n",
        "        normed_weights = [1 - (x / sum(n_samples)) for x in n_samples]\n",
        "        return [\n",
        "            MaskDetectionDataset(train),\n",
        "            MaskDetectionDataset(validate),\n",
        "            CrossEntropyLoss(weight=torch.tensor(normed_weights))\n",
        "            ]\n",
        "\n",
        "def train_dataloader(train_df) -> DataLoader:\n",
        "    return DataLoader(train_df, batch_size=32, shuffle=True, num_workers=4)\n",
        "\n",
        "def val_dataloader(validate_df) -> DataLoader:\n",
        "    return DataLoader(validate_df, batch_size=32, num_workers=4)\n",
        "\n",
        "train_df, validate_df, cross_entropy_loss = prepare_data(\"data/dataset/dataset.pickle\")"
      ],
      "execution_count": 49,
      "outputs": []
    },
    {
      "cell_type": "code",
      "metadata": {
        "id": "3DmCWb2_onzJ",
        "outputId": "71586d3c-901d-4761-d7de-4adc0b3ee99a",
        "colab": {
          "base_uri": "https://localhost:8080/"
        }
      },
      "source": [
        "\"\"\"\n",
        "Training Step\n",
        "\"\"\"\n",
        "\n",
        "LEARNING_RATE = 0.00001\n",
        "\n",
        "def train_model():\n",
        "    optimizer = Adam(face_mask_detector_cnn.parameters(), lr=LEARNING_RATE)\n",
        "    for epoch in range(2):\n",
        "        running_loss = 0.0\n",
        "        for i, data in enumerate(train_dataloader(train_df), 0):\n",
        "            inputs, labels = data['image'], data['mask']\n",
        "            labels = labels.flatten()\n",
        "            outputs = face_mask_detector_cnn(inputs)\n",
        "            loss = cross_entropy_loss(outputs, labels)\n",
        "            loss.backward()\n",
        "            optimizer.step()\n",
        "            running_loss += loss.item()\n",
        "            if i % 2000 == 1999:\n",
        "                print('[%d, %5d] loss: %.3f' %\n",
        "                    (epoch + 1, i + 1, running_loss / 2000))\n",
        "                running_loss = 0.0\n",
        "\n",
        "train_model()\n",
        "print('Finished Training')"
      ],
      "execution_count": 50,
      "outputs": [
        {
          "output_type": "stream",
          "text": [
            "/usr/local/lib/python3.6/dist-packages/PIL/Image.py:932: UserWarning: Palette images with Transparency expressed in bytes should be converted to RGBA images\n",
            "  \"Palette images with Transparency expressed in bytes should be \"\n",
            "/usr/local/lib/python3.6/dist-packages/PIL/Image.py:932: UserWarning: Palette images with Transparency expressed in bytes should be converted to RGBA images\n",
            "  \"Palette images with Transparency expressed in bytes should be \"\n",
            "/usr/local/lib/python3.6/dist-packages/PIL/Image.py:932: UserWarning: Palette images with Transparency expressed in bytes should be converted to RGBA images\n",
            "  \"Palette images with Transparency expressed in bytes should be \"\n",
            "/usr/local/lib/python3.6/dist-packages/PIL/Image.py:932: UserWarning: Palette images with Transparency expressed in bytes should be converted to RGBA images\n",
            "  \"Palette images with Transparency expressed in bytes should be \"\n"
          ],
          "name": "stderr"
        },
        {
          "output_type": "stream",
          "text": [
            "Finished Training\n"
          ],
          "name": "stdout"
        }
      ]
    },
    {
      "cell_type": "code",
      "metadata": {
        "id": "oAc11Iu-lZWc",
        "outputId": "248f37ef-823b-4c77-8d7d-270994b5dbb6",
        "colab": {
          "base_uri": "https://localhost:8080/"
        }
      },
      "source": [
        "\"\"\"\n",
        "Evaluate the model\n",
        "\"\"\"\n",
        "from numpy import vstack\n",
        "\n",
        "def evaluate_model():\n",
        "    predictions, actuals = np.array([]), np.array([])\n",
        "    for i, data in enumerate(val_dataloader(validate_df)):\n",
        "        inputs, targets = data['image'], data['mask']\n",
        "        targets = targets.flatten()\n",
        "        output = face_mask_detector_cnn(inputs)\n",
        "        output = torch.argmax(output,axis=1)\n",
        "        predictions = np.append(predictions,output.numpy())\n",
        "        actuals = np.append(actuals,targets.numpy())\n",
        "    # calculate accuracy\n",
        "    acc = accuracy_score(actuals, predictions)\n",
        "    return acc\n",
        "print(evaluate_model())"
      ],
      "execution_count": 51,
      "outputs": [
        {
          "output_type": "stream",
          "text": [
            "0.5831325301204819\n"
          ],
          "name": "stdout"
        }
      ]
    },
    {
      "cell_type": "code",
      "metadata": {
        "id": "M5HcysHM4V9x",
        "outputId": "4b52c809-6d1b-458d-c1f4-83f3d16caa30",
        "colab": {
          "base_uri": "https://localhost:8080/",
          "height": 320
        }
      },
      "source": [
        "\"\"\"\n",
        "Predict\n",
        "\"\"\"\n",
        "\n",
        "import matplotlib.pyplot as plt\n",
        "import random\n",
        "\n",
        "class_mapping = {\n",
        "    0: \"without_mask\",\n",
        "    1: \"with_mask\",\n",
        "    2: \"not_a_person\"\n",
        "}\n",
        "\n",
        "def predict():\n",
        "  data = iter(val_dataloader(validate_df))\n",
        "  data = data.next()\n",
        "  inputs,targets = data['image'], data['mask']\n",
        "  output = face_mask_detector_cnn(inputs)\n",
        "  output = torch.argmax(output,axis=1)\n",
        "  rand_ind = random.choice(list(range(0,32)))\n",
        "  print(data['path'][rand_ind])\n",
        "  img = Image.open(data['path'][rand_ind])\n",
        "  plt.imshow(np.asarray(img))\n",
        "  print(\"Actual:\", class_mapping[targets[rand_ind].tolist()[0]])\n",
        "  print(\"Predicted:\",class_mapping[output[rand_ind].tolist()])\n",
        "\n",
        "predict()"
      ],
      "execution_count": 79,
      "outputs": [
        {
          "output_type": "stream",
          "text": [
            "data/dataset/with_mask/with_mask_206.jpg\n",
            "Actual: with_mask\n",
            "Predicted: with_mask\n"
          ],
          "name": "stdout"
        },
        {
          "output_type": "display_data",
          "data": {
            "image/png": "[encoded data removed]",
            "text/plain": [
              "<Figure size 432x288 with 1 Axes>"
            ]
          },
          "metadata": {
            "tags": [],
            "needs_background": "light"
          }
        }
      ]
    }
  ]
}